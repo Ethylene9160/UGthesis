{
 "cells": [
  {
   "cell_type": "code",
   "execution_count": 1,
   "id": "initial_id",
   "metadata": {
    "ExecuteTime": {
     "end_time": "2025-04-02T14:21:51.706481Z",
     "start_time": "2025-04-02T14:21:51.682626700Z"
    },
    "collapsed": true
   },
   "outputs": [],
   "source": [
    "import numpy as np\n",
    "import matplotlib.pyplot as plt\n",
    "from pylab import *\n",
    "from brian2 import *\n",
    "from brian2.units.allunits import henry\n",
    "import src.tpam_tool as tp\n",
    "\n",
    "from matplotlib import rcParams\n",
    "rcParams['font.family'] = 'Times New Roman'\n",
    "\n",
    "def crvec(N, D=1):\n",
    "    rphase = 2*np.pi * np.random.rand(D, N)\n",
    "    return np.cos(rphase) + 1.0j * np.sin(rphase)\n",
    "\n",
    "def phase2spikes(cv, freq=5.0):\n",
    "    st = np.angle(cv) / (2*pi*freq)\n",
    "    return st"
   ]
  },
  {
   "cell_type": "code",
   "execution_count": 2,
   "id": "ea0a935c9cdedc1c",
   "metadata": {
    "ExecuteTime": {
     "end_time": "2025-04-02T14:21:51.742367500Z",
     "start_time": "2025-04-02T14:21:51.689751200Z"
    }
   },
   "outputs": [],
   "source": [
    "# Neuron parameters\n",
    "C_ex = 0.5 * nF # Capacitance of action-potential compartment\n",
    "C_in = 0.5 * nF # Capacitance of inhibitory cells\n",
    "\n",
    "g_l =  4.0 * nS # leak conductance\n",
    "E_l = -65.0 * mV # Resting potential\n",
    "\n",
    "V_t = 30.0 * mV # Threshold\n",
    "V_r = -65.0 * mV # Reset\n",
    "\n",
    "eqs_1 = Equations('''\n",
    "I = I_ext + I_rec + I_inh + I_c : amp\n",
    "dV/dt= ((0.04/(mV*ms)*V**2 + 5/(ms)*V + 140*(mV/ms) - U/ms + (not_refractory)*80*(I)/nA*mV/ms)) : volt\n",
    "dU/dt = a*(b*V - U) : volt\n",
    "I_ext : amp\n",
    "I_rec : amp\n",
    "I_inh : amp\n",
    "I_c : amp\n",
    "a: 1/second\n",
    "b: 1\n",
    "d: volt\n",
    "''')\n",
    "eqs_1_in = Equations('''\n",
    "I = I_ext + I_rec + I_inh + I_c : amp\n",
    "dV/dt= ((0.04/(mV*ms)*V**2 + 5/(ms)*V + 140*(mV/ms) - U/ms + (not_refractory)*80*(I)/nA*mV/ms)) : volt\n",
    "dU/dt = a*(b*V - U) : volt\n",
    "I_ext : amp\n",
    "I_rec : amp\n",
    "I_inh : amp\n",
    "I_c : amp\n",
    "a: 1/second\n",
    "b: 1\n",
    "d: volt\n",
    "''')\n",
    "\n",
    "s_delay = 0\n",
    "s_c_freq = (2*np.pi* (5.0)) / second\n",
    "\n",
    "s_delay_pre = '''\n",
    "mag : 1\n",
    "I_ext_post = sx * nA : amp (summed)\n",
    "dsx/dt = -s_c_freq * sx : 1 (clock-driven)\n",
    "'''\n",
    "s_delay_inh = '''\n",
    "mag : 1\n",
    "I_inh_post = sx * nA : amp (summed)\n",
    "dsx/dt = -0.25*s_c_freq * sx : 1 (clock-driven)\n",
    "'''\n",
    "s_delay_rec = '''\n",
    "mag : 1\n",
    "I_rec_post = sx * nA : amp (summed)\n",
    "dsx/dt = -s_c_freq * sx : 1 (clock-driven)\n",
    "'''\n",
    "\n",
    "s_delay_on_pre = '''\n",
    "sx += mag\n",
    "'''"
   ]
  },
  {
   "cell_type": "code",
   "execution_count": 3,
   "id": "8bf4061a560dd182",
   "metadata": {
    "ExecuteTime": {
     "end_time": "2025-04-02T14:21:51.743391600Z",
     "start_time": "2025-04-02T14:21:51.709872500Z"
    }
   },
   "outputs": [],
   "source": [
    "N_vec = 500\n",
    "N_inh_ff = 5\n",
    "N_out = 200"
   ]
  },
  {
   "cell_type": "code",
   "execution_count": 4,
   "id": "4862f7ed18668f9b",
   "metadata": {
    "ExecuteTime": {
     "end_time": "2025-04-02T14:21:55.731463500Z",
     "start_time": "2025-04-02T14:21:51.746724600Z"
    }
   },
   "outputs": [
    {
     "name": "stdout",
     "output_type": "stream",
     "text": [
      "Matrix loaded from src/samples/pvecs_izh_200.npz\n",
      "0th training epoch\n",
      "0.0%th column processed\n",
      "10.0%th column processed\n",
      "20.0%th column processed\n",
      "30.0%th column processed\n",
      "40.0%th column processed\n",
      "50.0%th column processed\n",
      "60.0%th column processed\n",
      "70.0%th column processed\n",
      "80.0%th column processed\n",
      "90.0%th column processed\n"
     ]
    }
   ],
   "source": [
    "Ks = int(0.05 * N_vec)\n",
    "\n",
    "# pvecs = crvec(N_vec, N_out).T\n",
    "# for d in range(N_out):\n",
    "#     ip = np.random.choice(N_vec, size=(N_vec-Ks), replace=False)\n",
    "#     pvecs[ip, d] = 0\n",
    "\n",
    "pvecs = tp.load_complex_matrix(f'src/samples/pvecs_izh_{N_out}.npz')\n",
    "# pmat = np.dot(pvecs, np.conj(pvecs.T)) / Ks\n",
    "# np.fill_diagonal(pmat, 0)\n",
    "pmat = tp.stdp_learn(pvecs, epochs=1, tau_p=0.8, tau_n=0.8, Ap = 0.62, An=0.62) / Ks"
   ]
  },
  {
   "cell_type": "code",
   "execution_count": 5,
   "id": "d19a28cda8d5f6d7",
   "metadata": {
    "ExecuteTime": {
     "end_time": "2025-04-02T14:21:55.747519700Z",
     "start_time": "2025-04-02T14:21:55.731463500Z"
    }
   },
   "outputs": [],
   "source": [
    "target_idx = 86\n",
    "init_vector = pvecs[:, target_idx].copy()\n",
    "#init_vector += pvecs[:, 7] + pvecs[:, 22]\n",
    "init_vector[200:] = 0"
   ]
  },
  {
   "cell_type": "code",
   "execution_count": 6,
   "id": "964100c2f72da749",
   "metadata": {
    "ExecuteTime": {
     "end_time": "2025-04-02T14:21:55.764396900Z",
     "start_time": "2025-04-02T14:21:55.747519700Z"
    }
   },
   "outputs": [],
   "source": [
    "stt = phase2spikes(init_vector)*second  +0.11*second\n",
    "spike_indices = np.arange(stt.shape[0])"
   ]
  },
  {
   "cell_type": "code",
   "execution_count": 7,
   "id": "1ea27cbb6157b54a",
   "metadata": {
    "ExecuteTime": {
     "end_time": "2025-04-02T14:21:55.779565800Z",
     "start_time": "2025-04-02T14:21:55.764396900Z"
    }
   },
   "outputs": [],
   "source": [
    "keep_idx = np.abs(init_vector) > 0.5\n",
    "stt = stt[keep_idx]\n",
    "spike_indices = spike_indices[keep_idx]"
   ]
  },
  {
   "cell_type": "code",
   "execution_count": 8,
   "id": "f6a071ffbd3b335a",
   "metadata": {
    "ExecuteTime": {
     "end_time": "2025-04-02T14:21:55.795765900Z",
     "start_time": "2025-04-02T14:21:55.778516100Z"
    }
   },
   "outputs": [],
   "source": [
    "nreps = 1\n",
    "spike_times = np.tile(stt, (nreps))\n",
    "spike_indices = np.tile(spike_indices, (nreps))\n",
    "\n",
    "for i in range(nreps):\n",
    "    spike_times[(i*N_vec):((i+1)*N_vec)] = spike_times[:N_vec] + i * 200*ms"
   ]
  },
  {
   "cell_type": "code",
   "execution_count": 9,
   "id": "f0a9424d458c0cb7",
   "metadata": {
    "ExecuteTime": {
     "end_time": "2025-04-02T14:21:55.808585300Z",
     "start_time": "2025-04-02T14:21:55.794653500Z"
    }
   },
   "outputs": [
    {
     "name": "stdout",
     "output_type": "stream",
     "text": [
      "RC delay: 7.93700478 ms\n"
     ]
    }
   ],
   "source": [
    "phase_shift =  np.arctan(g_l/(s_c_freq *  C_ex))\n",
    "rc_delay = phase_shift/s_c_freq\n",
    "\n",
    "print('RC delay:', rc_delay)"
   ]
  },
  {
   "cell_type": "code",
   "execution_count": 10,
   "id": "3ff31725b2766653",
   "metadata": {
    "ExecuteTime": {
     "end_time": "2025-04-02T14:21:56.011073500Z",
     "start_time": "2025-04-02T14:21:55.813801200Z"
    }
   },
   "outputs": [
    {
     "name": "stderr",
     "output_type": "stream",
     "text": [
      "WARNING    'i' is an internal variable of group 'synapses', but also exists in the run namespace with the value 0. The internal variable will be used. [brian2.groups.group.Group.resolve.resolution_conflict]\n"
     ]
    }
   ],
   "source": [
    "G_pre = SpikeGeneratorGroup(N_vec, spike_indices, spike_times)\n",
    "\n",
    "G_post = NeuronGroup(N_vec, model=eqs_1, threshold='V>V_t', reset='V=V_r;U+=d', refractory=150*ms, method='euler')\n",
    "G_inh_ff = NeuronGroup(N_inh_ff, model=eqs_1_in, threshold='V>V_t', reset='V=V_r;U+=d', refractory=0*ms, method='euler')\n",
    "\n",
    "G_post.V = E_l * ones(N_vec) + 0*mV * np.random.randn(N_vec)\n",
    "G_post.I_c = 1.0 * pA + 1.0*pA *np.random.randn(N_vec)\n",
    "G_inh_ff.V = E_l * ones(N_inh_ff) + 0*mV * np.random.randn(N_inh_ff)\n",
    "G_inh_ff.I_c = 1.0 * pA + 1.0*pA *np.random.randn(N_inh_ff)\n",
    "\n",
    "G_post.a = 0.02/ms * ones(N_vec)\n",
    "G_post.b = 0.2 * ones(N_vec)\n",
    "G_post.d = 1*mV * ones(N_vec)\n",
    "G_post.U = -13*mV * ones(N_vec)\n",
    "G_inh_ff.a = 0.02/ms * ones(N_inh_ff)\n",
    "G_inh_ff.b = 0.2 * ones(N_inh_ff)\n",
    "G_inh_ff.d = 1*mV * ones(N_inh_ff)\n",
    "G_inh_ff.U = -13*mV * ones(N_inh_ff)\n",
    "\n",
    "S_pre_post = Synapses(G_pre, G_post, s_delay_pre, on_pre=s_delay_on_pre, method='euler')\n",
    "S_pre_inh_ff = Synapses(G_pre, G_inh_ff, s_delay_pre, on_pre=s_delay_on_pre, method='euler')\n",
    "\n",
    "S_recurrent = Synapses(G_post, G_post, s_delay_rec, on_pre=s_delay_on_pre, method='euler')\n",
    "#S_post_inh_ff = Synapses(G_post, G_inh_ff, s_delay_inh, on_pre=s_delay_on_pre, method='euler')\n",
    "S_post_inh_ff = Synapses(G_post, G_inh_ff, s_delay_rec, on_pre=s_delay_on_pre, method='euler')\n",
    "\n",
    "S_inh_ff_post = Synapses(G_inh_ff, G_post, s_delay_inh, on_pre=s_delay_on_pre, method='euler')\n",
    "\n",
    "\n",
    "S_pre_post.connect(j='i')\n",
    "S_pre_post.mag = 0.3\n",
    "S_pre_post.delay = 30.0*ms\n",
    "\n",
    "S_pre_inh_ff.connect()\n",
    "S_pre_inh_ff.mag = 0.5/Ks\n",
    "S_pre_inh_ff.delay = 0.0*ms\n",
    "\n",
    "\n",
    "syn_thresh = 0.1 / (2*N_vec) ** 0.5\n",
    "synidxs = np.where(np.abs(pmat.T) > syn_thresh)\n",
    "S_recurrent.connect(i=synidxs[0], j=synidxs[1])\n",
    "\n",
    "syn_idxs_f = np.where(np.abs(pmat.T).flatten() > syn_thresh)[0]\n",
    "syn_abs = np.abs(pmat.T).flatten()\n",
    "syn_phase = np.angle(pmat.T).flatten()\n",
    "S_recurrent.mag = 1.5 * syn_abs[syn_idxs_f]\n",
    "S_recurrent.delay = syn_phase[syn_idxs_f] / s_c_freq + 2*np.pi/s_c_freq - 1.5*rc_delay\n",
    "\n",
    "\n",
    "S_post_inh_ff.connect()\n",
    "S_post_inh_ff.mag = 0.6/Ks\n",
    "S_post_inh_ff.delay = 2.0*ms\n",
    "\n",
    "\n",
    "S_inh_ff_post.connect()\n",
    "S_inh_ff_post.mag = -0.04 / N_inh_ff\n",
    "S_inh_ff_post.delay = 2.0*ms\n",
    "\n",
    "\n",
    "SpM_post = SpikeMonitor(G_post)\n",
    "SpM_inh_ff = SpikeMonitor(G_inh_ff)\n",
    "\n",
    "StM_post = StateMonitor(G_post, True, record=True)\n",
    "StM_inh_ff = StateMonitor(G_inh_ff, True, record=True)"
   ]
  },
  {
   "cell_type": "code",
   "execution_count": 11,
   "id": "e5b7d86b40ec8a4d",
   "metadata": {
    "ExecuteTime": {
     "end_time": "2025-04-02T14:21:56.088143500Z",
     "start_time": "2025-04-02T14:21:56.012154200Z"
    }
   },
   "outputs": [],
   "source": [
    "complex_net = Network()\n",
    "complex_net.add(G_pre)\n",
    "complex_net.add(G_post)\n",
    "complex_net.add(G_inh_ff)\n",
    "\n",
    "complex_net.add(S_pre_post)\n",
    "complex_net.add(S_pre_inh_ff)\n",
    "\n",
    "complex_net.add(S_inh_ff_post)\n",
    "\n",
    "complex_net.add(S_recurrent)\n",
    "complex_net.add(S_post_inh_ff)\n",
    "\n",
    "complex_net.add(SpM_post)\n",
    "complex_net.add(SpM_inh_ff)\n",
    "complex_net.add(StM_post)\n",
    "complex_net.add(StM_inh_ff)\n",
    "\n",
    "complex_net.store('init')"
   ]
  },
  {
   "cell_type": "code",
   "execution_count": 12,
   "id": "6a9bb363fba12fd0",
   "metadata": {
    "ExecuteTime": {
     "end_time": "2025-04-02T14:22:06.540555300Z",
     "start_time": "2025-04-02T14:21:56.090246200Z"
    }
   },
   "outputs": [
    {
     "name": "stdout",
     "output_type": "stream",
     "text": [
      "elapsed 23.66231107711792\n"
     ]
    }
   ],
   "source": [
    "run_time = 5.0 * second\n",
    "complex_net.restore('init')\n",
    "tst = time.time()\n",
    "complex_net.run(run_time)\n",
    "print(\"elapsed\", time.time() - tst)"
   ]
  },
  {
   "cell_type": "code",
   "execution_count": 13,
   "id": "81f215afb37750b8",
   "metadata": {
    "ExecuteTime": {
     "end_time": "2025-04-02T14:22:06.898472100Z",
     "start_time": "2025-04-02T14:22:06.543563100Z"
    }
   },
   "outputs": [
    {
     "name": "stdout",
     "output_type": "stream",
     "text": [
      "189.5 ms\n"
     ]
    },
    {
     "data": {
      "image/png": "[encoded data removed]",
      "text/plain": [
       "<Figure size 400x400 with 2 Axes>"
      ]
     },
     "metadata": {},
     "output_type": "display_data"
    }
   ],
   "source": [
    "figure(figsize=(4,4))\n",
    "\n",
    "N_ex = spike_indices[2]\n",
    "\n",
    "subplot(2,1,1)\n",
    "plot(StM_post.t / second, StM_post.I_rec[N_ex,:]/nA, 'g', lw=2)\n",
    "plot(StM_post.t / second, StM_post.I_inh[N_ex,:]/nA, 'r', lw=2)\n",
    "plot(StM_post.t / second, StM_post.I_ext[N_ex,:]/nA, 'c', lw=2)\n",
    "xticks([])\n",
    "xlim([0, 2])\n",
    "ylim([-0.4, 0.8])\n",
    "ylabel('Input (nA)')\n",
    "\n",
    "subplot(2,1,2)\n",
    "plot(StM_post.t/ second, StM_post.V[N_ex,:] / mV, 'k', lw=2);\n",
    "spike_trains_post = SpM_post.spike_trains()\n",
    "plot(spike_trains_post[N_ex]/second, V_t / mV * ones(len(spike_trains_post[N_ex])), 'cx', lw=2, mew=2, ms=10)\n",
    "\n",
    "print(np.median(np.diff(spike_trains_post[N_ex])))\n",
    "\n",
    "xlim([0,2.0])\n",
    "ylim([-75, 45])\n",
    "xlabel('Time (s)')\n",
    "ylabel('Voltage (mV)')\n",
    "\n",
    "plt.tight_layout()\n"
   ]
  },
  {
   "cell_type": "code",
   "execution_count": 14,
   "id": "31f6bfa71d64eb4d",
   "metadata": {
    "ExecuteTime": {
     "end_time": "2025-04-02T14:22:07.453564100Z",
     "start_time": "2025-04-02T14:22:06.898472100Z"
    }
   },
   "outputs": [
    {
     "name": "stdout",
     "output_type": "stream",
     "text": [
      "25 == 25\n"
     ]
    },
    {
     "data": {
      "image/png": "[encoded data removed]",
      "text/plain": [
       "<Figure size 350x300 with 1 Axes>"
      ]
     },
     "metadata": {},
     "output_type": "display_data"
    }
   ],
   "source": [
    "figure(figsize=(3.5,3))\n",
    "\n",
    "c=0\n",
    "for i in range(N_vec):\n",
    "    plot(spike_trains_post[i], i * ones(len(spike_trains_post[i])), '|', mew=2)\n",
    "    if len(spike_trains_post[i])>2:\n",
    "        c+=1\n",
    "        \n",
    "print(c, '==', Ks)\n",
    "\n",
    "xlim([0,2])\n",
    "ylim([0, N_vec])\n",
    "\n",
    "xlabel('Time (s)')\n",
    "title('Network')\n",
    "\n",
    "plt.tight_layout()\n"
   ]
  },
  {
   "cell_type": "code",
   "execution_count": 15,
   "id": "d248ad2a2d2c4d19",
   "metadata": {
    "ExecuteTime": {
     "end_time": "2025-04-02T14:22:08.324952600Z",
     "start_time": "2025-04-02T14:22:07.446544400Z"
    }
   },
   "outputs": [
    {
     "name": "stdout",
     "output_type": "stream",
     "text": [
      "25 == 25\n"
     ]
    },
    {
     "data": {
      "image/png": "[encoded data removed]",
      "text/plain": [
       "<Figure size 700x300 with 2 Axes>"
      ]
     },
     "metadata": {},
     "output_type": "display_data"
    }
   ],
   "source": [
    "figure(figsize=(7,3))\n",
    "\n",
    "subplot(121)\n",
    "c=0\n",
    "for i in range(N_vec):\n",
    "    plot(spike_trains_post[i], i * ones(len(spike_trains_post[i])), '|', mew=2)\n",
    "    if len(spike_trains_post[i])>2:\n",
    "        c+=1\n",
    "        \n",
    "print(c, '==', Ks)\n",
    "\n",
    "xlim([4,5])\n",
    "ylim([0, N_vec])\n",
    "\n",
    "xlabel('Time (s)')\n",
    "title('Network')\n",
    "\n",
    "\n",
    "target_vector = pvecs[:, target_idx].copy()\n",
    "\n",
    "stt = phase2spikes(target_vector)*second  +0.11*second\n",
    "spike_indices = np.arange(stt.shape[0])\n",
    "\n",
    "keep_idx = np.abs(target_vector) > 0.5\n",
    "stt = stt[keep_idx]\n",
    "spike_indices = spike_indices[keep_idx]\n",
    "\n",
    "nreps = 10\n",
    "spike_times_target = np.tile(stt, (nreps))\n",
    "spike_indices_target = np.tile(spike_indices, (nreps))\n",
    "\n",
    "for i in range(nreps):\n",
    "    spike_times_target[(np.arange(len(stt)) + i * len(stt))] = spike_times_target[:len(stt)] + i * 200*ms\n",
    "\n",
    "    \n",
    "subplot(122)\n",
    "for i in range(N_vec):\n",
    "    sp_times = spike_times_target[spike_indices_target==i]\n",
    "    plot(sp_times, i*np.ones(sp_times.shape) , '|', mew=2)\n",
    "\n",
    "xlabel('Time (s)')\n",
    "xlim([0, 1])\n",
    "ylim([0, N_vec])\n",
    "title('Target')\n",
    "\n",
    "plt.tight_layout()\n"
   ]
  }
 ],
 "metadata": {
  "kernelspec": {
   "display_name": "Python 3",
   "language": "python",
   "name": "python3"
  },
  "language_info": {
   "codemirror_mode": {
    "name": "ipython",
    "version": 3
   },
   "file_extension": ".py",
   "mimetype": "text/x-python",
   "name": "python",
   "nbconvert_exporter": "python",
   "pygments_lexer": "ipython3",
   "version": "3.11.10"
  }
 },
 "nbformat": 4,
 "nbformat_minor": 5
}
